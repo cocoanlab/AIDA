{
 "cells": [
  {
   "cell_type": "code",
   "execution_count": null,
   "id": "136e59e5-6aff-4d83-9c60-786810986e9c",
   "metadata": {},
   "outputs": [],
   "source": [
    "import os\n",
    "import pandas as pd\n",
    "import subprocess"
   ]
  },
  {
   "cell_type": "code",
   "execution_count": null,
   "id": "ae522c8b-e4a4-43ae-a209-d3920a2ad003",
   "metadata": {},
   "outputs": [],
   "source": [
    "nas_dir = \"/home/jaejoong/cocoanlab02\"\n",
    "result_dir = os.path.join(nas_dir, \"projects/AIDA/results\")"
   ]
  },
  {
   "cell_type": "code",
   "execution_count": null,
   "id": "f9dccda6-79b9-4f52-a06d-e2e5fae2b6fc",
   "metadata": {},
   "outputs": [],
   "source": [
    "all_df_path = os.path.join(result_dir, \"AIDA_all_df.csv\")\n",
    "all_df = pd.read_csv(all_df_path)\n",
    "all_liwc_df_path = os.path.join(result_dir, \"AIDA_all_liwc_df.csv\")\n",
    "liwcclipath = \"/opt/liwc-22/bin/LIWC-22-cli\"\n",
    "liwcDict = \"LIWC22\"\n",
    "liwcmode = \"wc\"\n",
    "cmd_to_execute = [liwcclipath,\n",
    "                  \"--mode\", \"wc\",\n",
    "                  \"--dictionary\", liwcDict,\n",
    "                  \"--input\", all_df_path,\n",
    "                  \"--row-id-indices\", \"1\",\n",
    "                  \"--column-indices\", str(all_df.shape[1]),\n",
    "                  \"--output\", all_liwc_df_path]\n",
    "subprocess.call(cmd_to_execute)"
   ]
  },
  {
   "cell_type": "code",
   "execution_count": null,
   "id": "670ab4bd-b1a3-466d-bc6e-7ee002fd0648",
   "metadata": {},
   "outputs": [],
   "source": [
    "all_liwc_df = pd.read_csv(all_liwc_df_path)\n",
    "all_liwc_df[\"selffocused\"] = (all_liwc_df[\"i\"] + all_liwc_df[\"we\"]) / (all_liwc_df[\"i\"] + all_liwc_df[\"we\"] + all_liwc_df[\"you\"] + all_liwc_df[\"shehe\"] + all_liwc_df[\"they\"])\n",
    "all_liwc_df[\"presentfocused\"] = all_liwc_df[\"focuspresent\"] / (all_liwc_df[\"focuspresent\"] + all_liwc_df[\"focuspast\"] + all_liwc_df[\"focusfuture\"])\n",
    "display(all_liwc_df)"
   ]
  },
  {
   "cell_type": "code",
   "execution_count": null,
   "id": "f781d1b7-0e51-41c9-ac44-1e9194402f48",
   "metadata": {},
   "outputs": [],
   "source": [
    "all_liwc_df.to_csv(all_liwc_df_path, index=False)"
   ]
  },
  {
   "cell_type": "code",
   "execution_count": null,
   "id": "eafa027a-eff8-4c40-8d5e-69b7912c2d37",
   "metadata": {},
   "outputs": [],
   "source": []
  }
 ],
 "metadata": {
  "kernelspec": {
   "display_name": "Python 3 (ipykernel)",
   "language": "python",
   "name": "python3"
  },
  "language_info": {
   "codemirror_mode": {
    "name": "ipython",
    "version": 3
   },
   "file_extension": ".py",
   "mimetype": "text/x-python",
   "name": "python",
   "nbconvert_exporter": "python",
   "pygments_lexer": "ipython3",
   "version": "3.12.8"
  }
 },
 "nbformat": 4,
 "nbformat_minor": 5
}
