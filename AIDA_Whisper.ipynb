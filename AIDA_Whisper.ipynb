{
 "cells": [
  {
   "cell_type": "code",
   "execution_count": null,
   "id": "a166b69d-1714-4c1f-97bf-42f2cc37a90f",
   "metadata": {},
   "outputs": [],
   "source": [
    "import os\n",
    "import whisper\n",
    "import pandas as pd"
   ]
  },
  {
   "cell_type": "code",
   "execution_count": null,
   "id": "c61d6380-d601-4d61-812e-eb2898de9ff8",
   "metadata": {},
   "outputs": [],
   "source": [
    "nas_dir = \"/home/jaejoong/cocoanlab02\"\n",
    "edaic_dir = os.path.join(nas_dir, \"projects/AIDA/test_dataset\")"
   ]
  },
  {
   "cell_type": "code",
   "execution_count": null,
   "id": "f9d85653-f4a0-4a03-9dac-ca9beb07e9b2",
   "metadata": {},
   "outputs": [],
   "source": [
    "model = whisper.load_model('large')"
   ]
  },
  {
   "cell_type": "code",
   "execution_count": null,
   "id": "56c2ac0f-41b4-434a-8167-391c2ff64416",
   "metadata": {},
   "outputs": [],
   "source": [
    "edaic_csv = pd.read_csv(os.path.join(edaic_dir, \"detailed_lables_mod.csv\")) # 431,713: Wrong gender, 485,486: Wrong gender and age, 669,683: PCL-C sum omitted, All: Depression and PTSD criterion base on PHQ-8 >= 10 and PCL-C >= 45\n",
    "edaic_csv = edaic_csv[edaic_csv[\"Participant\"] >= 600].copy().reset_index(drop=True)"
   ]
  },
  {
   "cell_type": "code",
   "execution_count": null,
   "id": "b1510919-39a1-4174-bfb2-491743850afb",
   "metadata": {},
   "outputs": [],
   "source": [
    "for idx, row in edaic_csv.iterrows():\n",
    "\n",
    "    print(f\"\\rWorking on Participant {row[\"Participant\"]}...       \", end=\"\", flush=True)\n",
    "\n",
    "    audio_file = os.path.join(edaic_dir, \"all_audio\", \"compnorm\", str(row[\"Participant\"]) + \"_AUDIO.wav\")\n",
    "    result = model.transcribe(audio_file)\n",
    "\n",
    "    rows = []\n",
    "    for segment in result[\"segments\"]:\n",
    "        rows.append({\n",
    "            \"start_time\": segment[\"start\"],\n",
    "            \"stop_time\": segment[\"end\"],\n",
    "            \"speaker\": \"Ellie\",\n",
    "            \"value\": segment[\"text\"].strip().lower()\n",
    "        })\n",
    "        \n",
    "    df = pd.DataFrame(rows)\n",
    "    ts_file = os.path.join(edaic_dir, \"all_transcripts\", \"whisper\", str(row[\"Participant\"]) + \"_WHISPER_AUTO_TRANSCRIPT.csv\")\n",
    "    df.to_csv(ts_file, index=False)"
   ]
  },
  {
   "cell_type": "code",
   "execution_count": null,
   "id": "0a3b4e01-3b25-4384-a460-2700b9b56c25",
   "metadata": {},
   "outputs": [],
   "source": []
  }
 ],
 "metadata": {
  "kernelspec": {
   "display_name": "Python 3 (ipykernel)",
   "language": "python",
   "name": "python3"
  },
  "language_info": {
   "codemirror_mode": {
    "name": "ipython",
    "version": 3
   },
   "file_extension": ".py",
   "mimetype": "text/x-python",
   "name": "python",
   "nbconvert_exporter": "python",
   "pygments_lexer": "ipython3",
   "version": "3.12.8"
  }
 },
 "nbformat": 4,
 "nbformat_minor": 5
}
