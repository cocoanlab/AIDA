{
 "cells": [
  {
   "cell_type": "code",
   "execution_count": null,
   "id": "601425b6-42f6-4ace-8fc6-7c1d66fd8452",
   "metadata": {},
   "outputs": [],
   "source": [
    "import os\n",
    "import pandas as pd\n",
    "import matplotlib.pyplot as plt\n",
    "import seaborn as sns"
   ]
  },
  {
   "cell_type": "code",
   "execution_count": null,
   "id": "91e4bdad-af9a-4069-bf73-060f7b3e6879",
   "metadata": {},
   "outputs": [],
   "source": [
    "nas_dir = \"/home/jaejoong/cocoanlab02\"\n",
    "dat_dir = os.path.join(nas_dir, \"projects/AIDA/dataset\")\n",
    "result_dir = os.path.join(nas_dir, \"projects/AIDA/results\")"
   ]
  },
  {
   "cell_type": "code",
   "execution_count": null,
   "id": "e5462c6d-86c5-4bd2-a021-4f8c3ede2e0c",
   "metadata": {},
   "outputs": [],
   "source": [
    "all_orig_df = pd.read_csv(os.path.join(dat_dir, \"detailed_lables.csv\"))\n",
    "test_1_df = pd.read_csv(os.path.join(dat_dir, \"full_test_split.csv\"))"
   ]
  },
  {
   "cell_type": "code",
   "execution_count": null,
   "id": "f574e68c-e4c1-4c5a-9419-acc076db971f",
   "metadata": {},
   "outputs": [],
   "source": [
    "all_df = all_orig_df.copy()\n",
    "all_df[\"split\"] = \"Training\"\n",
    "all_df.loc[all_df[\"Participant\"].isin(test_1_df[\"Participant_ID\"]), \"split\"] = \"Test 1\"\n",
    "all_df.loc[all_df[\"Participant\"] >= 600, \"split\"] = \"Test 2\"\n",
    "all_df[\"split_edaic\"] = all_df[\"split\"].replace({\"Test 2\": \"Test 2 E-DAIC\"})\n",
    "all_df.loc[(all_df[\"Participant\"] >= 600) & (all_orig_df[\"split\"] != \"test\"), \"split_edaic\"] = \"\""
   ]
  },
  {
   "cell_type": "code",
   "execution_count": null,
   "id": "fbf60478-ed0e-4ce0-b821-3556c5531705",
   "metadata": {},
   "outputs": [],
   "source": [
    "all_dialogue = []\n",
    "all_dialogue_P = []\n",
    "\n",
    "for idx, row in all_df.iterrows():\n",
    "\n",
    "    ts_file = os.path.join(dat_dir, \"all_transcripts\", str(row[\"Participant\"]) + \"_TRANSCRIPT.csv\")\n",
    "    ts_df = pd.read_csv(ts_file, sep=None, engine=\"python\")\n",
    "    ts_df = ts_df[ts_df[\"value\"] != \"<synch>\"].copy()\n",
    "    ts_df = ts_df.dropna(subset=[\"value\"]).copy()\n",
    "    ts_df[\"speaker_change\"] = ts_df[\"speaker\"] != ts_df[\"speaker\"].shift()\n",
    "    ts_df[\"group\"] = ts_df[\"speaker_change\"].cumsum()\n",
    "    ts_df[\"value\"] = ts_df[\"value\"].astype(str)\n",
    "    merged_ts_df = ts_df.groupby(\"group\").agg({\n",
    "        \"speaker\": \"first\",\n",
    "        \"value\": \". \".join,\n",
    "    }).reset_index(drop=True)\n",
    "    dialogue = \"\\n\".join(merged_ts_df[\"speaker\"] + \": \" + merged_ts_df[\"value\"] + \".\")\n",
    "    all_dialogue.append(dialogue)\n",
    "    merged_P_ts_df = merged_ts_df[merged_ts_df[\"speaker\"] == \"Participant\"].reset_index(drop=True)\n",
    "    dialogue_P = \"\\n\".join(merged_P_ts_df[\"value\"] + \".\")\n",
    "    all_dialogue_P.append(dialogue_P)\n",
    "\n",
    "all_df[\"Dialogue\"] = all_dialogue\n",
    "all_df[\"Dialogue_P\"] = all_dialogue_P\n",
    "\n",
    "print(\"No virtual agent (Ellie)'s transcriptions\")\n",
    "wh_ellie = all_df[\"Dialogue\"].str.contains(\"Ellie\")\n",
    "display(all_df.loc[~wh_ellie, :])\n",
    "all_df = all_df[wh_ellie].copy()\n",
    "all_df.reset_index(drop=True, inplace=True)"
   ]
  },
  {
   "cell_type": "code",
   "execution_count": null,
   "id": "3bf9d114-016a-43be-b844-d3d7c712dc5a",
   "metadata": {},
   "outputs": [],
   "source": [
    "pd.set_option(\"display.max_rows\", 6)\n",
    "for split in [\"Training\", \"Test 1\", \"Test 2\"]:    \n",
    "    df = all_df[all_df[\"split\"] == split]\n",
    "    print(f'{split}: Mean = {df.age.mean():.1f}, Std = {df.age.std():.1f}, Female {(df.gender==\"female\").sum()}')\n",
    "    display(df)"
   ]
  },
  {
   "cell_type": "code",
   "execution_count": null,
   "id": "23eec1e9-6d47-4b8a-854e-ddfe61f50c60",
   "metadata": {},
   "outputs": [],
   "source": [
    "plt.figure(figsize=(9, 7))\n",
    "sns.set_style(\"ticks\", {\"font.sans-serif\": \"Helvetica\", \"xtick.bottom\": False})\n",
    "sns.boxplot(all_df, x=\"split\", y=\"Depression_severity\", order=[\"Training\", \"Test 1\", \"Test 2\"],\n",
    "            hue=\"split\", hue_order=[\"Training\", \"Test 1\", \"Test 2\"], palette=[\"#FFB3B5\", \"#CFC982\", \"#76D9B1\"], showfliers=False, fill=False, linewidth=3, width=0.5)\n",
    "sns.swarmplot(all_df, x=\"split\", y=\"Depression_severity\", order=[\"Training\", \"Test 1\", \"Test 2\"],\n",
    "            hue=\"split\", hue_order=[\"Training\", \"Test 1\", \"Test 2\"], palette=[\"#E16A86\", \"#AA9000\", \"#00AA5A\"], size=5)\n",
    "sns.despine()\n",
    "plt.ylim([-2, 25])\n",
    "plt.xlabel(None)\n",
    "plt.ylabel('PHQ-8 score', fontsize=14)\n",
    "plt.xticks(ticks=[0, 1, 2], labels=[\"Training set\", \"Test set 1\", \"Test set 2\"], fontsize=14)\n",
    "plt.yticks(fontsize=14)\n",
    "plt.tick_params(axis='both', length=10)\n",
    "plt.savefig(os.path.join(result_dir, \"AIDA_PHQ-8_score_box.pdf\"), bbox_inches='tight')\n",
    "plt.show()"
   ]
  },
  {
   "cell_type": "code",
   "execution_count": null,
   "id": "d446772e-752f-40cd-99c6-b413e47cd2c4",
   "metadata": {},
   "outputs": [],
   "source": [
    "all_df.to_csv(os.path.join(result_dir, \"AIDA_all_df.csv\"), index=False)"
   ]
  },
  {
   "cell_type": "code",
   "execution_count": null,
   "id": "8bac43e6-bd58-4f8d-a349-e650144f67b5",
   "metadata": {},
   "outputs": [],
   "source": []
  }
 ],
 "metadata": {
  "kernelspec": {
   "display_name": "Python 3 (ipykernel)",
   "language": "python",
   "name": "python3"
  },
  "language_info": {
   "codemirror_mode": {
    "name": "ipython",
    "version": 3
   },
   "file_extension": ".py",
   "mimetype": "text/x-python",
   "name": "python",
   "nbconvert_exporter": "python",
   "pygments_lexer": "ipython3",
   "version": "3.12.8"
  }
 },
 "nbformat": 4,
 "nbformat_minor": 5
}
